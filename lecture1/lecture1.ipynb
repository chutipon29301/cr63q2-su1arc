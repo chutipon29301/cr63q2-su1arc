{
 "cells": [
  {
   "cell_type": "markdown",
   "metadata": {},
   "source": [
    "# Introduction to python"
   ]
  },
  {
   "cell_type": "markdown",
   "metadata": {},
   "source": [
    "## Getting started\n",
    "วิธีการ run program python ใน jupyter notebook กด `shift + enter` ใน cell "
   ]
  },
  {
   "cell_type": "code",
   "execution_count": null,
   "metadata": {},
   "outputs": [],
   "source": [
    "print('Hello World!')"
   ]
  },
  {
   "cell_type": "markdown",
   "metadata": {},
   "source": [
    "## Syntax\n",
    "ใช้การย่อหน้าสำหรับการเเบ่ง code เช่น"
   ]
  },
  {
   "cell_type": "code",
   "execution_count": null,
   "metadata": {},
   "outputs": [],
   "source": [
    "if 5 > 3:\n",
    "    print('5 is greather than 3')"
   ]
  },
  {
   "cell_type": "markdown",
   "metadata": {},
   "source": [
    "ใช้เครื่องหมาย `#` สำหรับการ comment เช่น"
   ]
  },
  {
   "cell_type": "code",
   "execution_count": null,
   "metadata": {},
   "outputs": [],
   "source": [
    "# This is a line of comment which will not execute\n",
    "print('Hello World!')"
   ]
  },
  {
   "cell_type": "code",
   "execution_count": null,
   "metadata": {},
   "outputs": [],
   "source": [
    "print('Hello World!') # Comment which comes after '#' will not be execute"
   ]
  },
  {
   "cell_type": "code",
   "execution_count": null,
   "metadata": {},
   "outputs": [],
   "source": [
    "\"\"\"\n",
    "This is multiple\n",
    "line of\n",
    "comments\n",
    "\"\"\"\n",
    "print('Hello World!')"
   ]
  },
  {
   "cell_type": "markdown",
   "metadata": {},
   "source": [
    "## Variables\n",
    "การประกาศต่าตัวแปร ในภาษา python ไม่มี syntax ในการประกาศตัวแปรเหมือนกับภาษาอื่นๆ\n",
    "\n",
    "ตัวแปรจะถูกสร้างเมื่อมีการให้ต่ากับตัวแปรนั้นๆ"
   ]
  },
  {
   "cell_type": "code",
   "execution_count": null,
   "metadata": {},
   "outputs": [],
   "source": [
    "a = 10\n",
    "b = 'Hello'\n",
    "print(a)\n",
    "print(b)"
   ]
  },
  {
   "cell_type": "markdown",
   "metadata": {},
   "source": [
    "## Data type in python\n",
    "Primitive data type in python: `str`, `int`, `float`, `boolean`\n",
    "\n",
    "Non-primitive data type in python: `list`, `tuple`, `range`, `dict`, etc.\n",
    "\n",
    "เมื่อต้องการตรวจสอบว่าตัวแปรเป็นชนิดอะไรให้ใช้ function `type`"
   ]
  },
  {
   "cell_type": "code",
   "execution_count": null,
   "metadata": {},
   "outputs": [],
   "source": [
    "a = 'Hello'\n",
    "b = 5\n",
    "c = 3.14\n",
    "d = True\n",
    "e = ['x', 'y', 'z']\n",
    "f = ('x', 'y')\n",
    "g = range(5)\n",
    "h = {'a': 'x', 'b': 'y', 'c': 'z'}\n",
    "\n",
    "print(a, '\\t\\t\\t\\t\\t', type(a))\n",
    "print(b, '\\t\\t\\t\\t\\t', type(b))\n",
    "print(c, '\\t\\t\\t\\t\\t', type(c))\n",
    "print(d, '\\t\\t\\t\\t\\t', type(d))\n",
    "print(e, '\\t\\t\\t',     type(e))\n",
    "print(f, '\\t\\t\\t\\t',   type(f))\n",
    "print(g, '\\t\\t\\t\\t',   type(g))\n",
    "print(h, '\\t\\t',       type(h))"
   ]
  },
  {
   "cell_type": "markdown",
   "metadata": {},
   "source": [
    "## Data casting in python\n",
    "`int()` ใช้ในการเปลี่ยนค่าตัวแปรเป็นชนิด integer\n",
    "\n",
    "`float()` ใช้ในการเปลี่ยนค่าตัวแปรเป็นชนิด float / ทศนิยม\n",
    "\n",
    "`str()` ใช้ในการเปลี่ยนค่าตัวแปรเป็นชนิด string\n"
   ]
  },
  {
   "cell_type": "code",
   "execution_count": null,
   "metadata": {},
   "outputs": [],
   "source": [
    "a = '1'\n",
    "print(a, type(a))\n",
    "b = int(a)\n",
    "print(b, type(b))"
   ]
  },
  {
   "cell_type": "markdown",
   "metadata": {},
   "source": [
    "Auto-casting in python\n",
    "ในการนำ int มาทำ operation กับ float"
   ]
  },
  {
   "cell_type": "code",
   "execution_count": null,
   "metadata": {},
   "outputs": [],
   "source": [
    "a = 2\n",
    "print(a)\n",
    "print(type(a))\n",
    "a = a - 0.1\n",
    "print(a)\n",
    "print(type(a))"
   ]
  },
  {
   "cell_type": "markdown",
   "metadata": {},
   "source": [
    "## Input\n",
    "การรับค่าตัวแปรจาก keyboard ให้ใช้คำสั่ง `input`\n",
    "\n",
    "คำสั่ง input จะรับค่าจนกว่าจะมีการกด `enter`"
   ]
  },
  {
   "cell_type": "code",
   "execution_count": null,
   "metadata": {},
   "outputs": [],
   "source": [
    "a = input()\n",
    "print(a)"
   ]
  },
  {
   "cell_type": "markdown",
   "metadata": {},
   "source": [
    "## Example: Triangle area\n",
    "ให้รับค่าฐานและความสูงของสามเหลี่ยม ให้คำนวนพื้นที่ของสามเหลี่ยม\n",
    "\n",
    "|case|input|output|\n",
    "|:---:|:---:|:---:|\n",
    "|1|5<br>10|25|\n",
    "|2|10.5<br>3|15.75"
   ]
  },
  {
   "cell_type": "code",
   "execution_count": null,
   "metadata": {},
   "outputs": [],
   "source": [
    "base = input()\n",
    "height = input()\n",
    "area = (1 / 2) * float(base) * float(height)\n",
    "print(area)"
   ]
  },
  {
   "cell_type": "markdown",
   "metadata": {},
   "source": [
    "## Exercise: Counting seconds\n",
    "ให้รับค่าตัวแปร 3 ตัว hour, minute, second ให้คำนวนจำนวนวินาทีทั้งหมด\n",
    "\n",
    "|case|input|output|\n",
    "|:---:|:---:|:---:|\n",
    "|1|1<br>2<br>30|3750|\n",
    "|2|5<br>20<br>26|19226|"
   ]
  },
  {
   "cell_type": "code",
   "execution_count": null,
   "metadata": {},
   "outputs": [],
   "source": []
  },
  {
   "cell_type": "markdown",
   "metadata": {},
   "source": [
    "## Exercise: Finding average\n",
    "รับจำนวนจริง 3 ตัว และหาค่าเฉลี่ยของ 3 จำนวนนั้น\n",
    "\n",
    "|case|input|output|\n",
    "|:---:|:---:|:---:|\n",
    "|1|1<br>3<br>5|3|\n",
    "|2|4<br>5<br>7|5.333|"
   ]
  },
  {
   "cell_type": "code",
   "execution_count": null,
   "metadata": {},
   "outputs": [],
   "source": []
  },
  {
   "cell_type": "markdown",
   "metadata": {},
   "source": [
    "## String\n",
    "string สามารถประกาศได้โดยใช้เครื่องหมาย `'` หรือ `\"`"
   ]
  },
  {
   "cell_type": "code",
   "execution_count": null,
   "metadata": {},
   "outputs": [],
   "source": [
    "a = 'Hello World!'\n",
    "b = \"Hello World!\""
   ]
  },
  {
   "cell_type": "markdown",
   "metadata": {},
   "source": [
    "Multiline string"
   ]
  },
  {
   "cell_type": "code",
   "execution_count": null,
   "metadata": {},
   "outputs": [],
   "source": [
    "a = \"\"\"Lorem ipsum dolor sit amet,\n",
    "consectetur adipiscing elit,\n",
    "sed do eiusmod tempor incididunt\n",
    "ut labore et dolore magna aliqua.\"\"\"\n",
    "b = '''Lorem ipsum dolor sit amet,\n",
    "consectetur adipiscing elit,\n",
    "sed do eiusmod tempor incididunt\n",
    "ut labore et dolore magna aliqua.'''"
   ]
  },
  {
   "cell_type": "markdown",
   "metadata": {},
   "source": [
    "การเข้าถึงตัวอักษรของ string จะใช้ลำตับของตัวอักษร ซึ่งจะเรียกว่า index\n",
    "\n",
    "ตัวอักษรแรกจะเริ่มต้นทืี่ index `0` และตัวสุดท้ายจะจบที่ index `ความยาวของ string - 1`\n",
    "\n",
    "ในกรณีที่ต้องการนับ index ของ string จากหลังมาหน้า สามารถใช้ index ที่ติดลบได้ โดยที่ตัวอักษรสุดท้ายจะมี index เป็น `-1`"
   ]
  },
  {
   "cell_type": "code",
   "execution_count": 6,
   "metadata": {},
   "outputs": [
    {
     "name": "stdout",
     "output_type": "stream",
     "text": [
      "e\n",
      "!\n"
     ]
    }
   ],
   "source": [
    "a = 'Hello World!'\n",
    "print(a[1])\n",
    "print(a[-1])"
   ]
  },
  {
   "cell_type": "markdown",
   "metadata": {},
   "source": [
    "เราจะสามารถหาความยาวของ string ได้โดยใช้ function `len`"
   ]
  },
  {
   "cell_type": "code",
   "execution_count": 5,
   "metadata": {},
   "outputs": [
    {
     "name": "stdout",
     "output_type": "stream",
     "text": [
      "12\n"
     ]
    }
   ],
   "source": [
    "a = 'Hello World!'\n",
    "print(len(a))"
   ]
  },
  {
   "cell_type": "code",
   "execution_count": null,
   "metadata": {},
   "outputs": [],
   "source": []
  },
  {
   "cell_type": "code",
   "execution_count": null,
   "metadata": {},
   "outputs": [],
   "source": []
  }
 ],
 "metadata": {
  "file_extension": ".py",
  "kernelspec": {
   "display_name": "Python 3",
   "language": "python",
   "name": "python3"
  },
  "language_info": {
   "codemirror_mode": {
    "name": "ipython",
    "version": 3
   },
   "file_extension": ".py",
   "mimetype": "text/x-python",
   "name": "python",
   "nbconvert_exporter": "python",
   "pygments_lexer": "ipython3",
   "version": "3.8.2"
  },
  "mimetype": "text/x-python",
  "name": "python",
  "npconvert_exporter": "python",
  "pygments_lexer": "ipython3",
  "version": 3
 },
 "nbformat": 4,
 "nbformat_minor": 2
}
