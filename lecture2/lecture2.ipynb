{
 "cells": [
  {
   "cell_type": "markdown",
   "metadata": {},
   "source": [
    "# Lecture 2: Conditional statement and Loop"
   ]
  },
  {
   "cell_type": "markdown",
   "metadata": {},
   "source": [
    "## Exercise: Finding average\n",
    "รับจำนวนจริง 3 ตัว และหาค่าเฉลี่ยของ 3 จำนวนนั้น\n",
    "\n",
    "|case|input|output|\n",
    "|:---:|:---:|:---:|\n",
    "|1|1<br>3<br>5|3|\n",
    "|2|4<br>5<br>7|5.333|"
   ]
  },
  {
   "cell_type": "code",
   "execution_count": null,
   "metadata": {},
   "outputs": [],
   "source": [
    "a = input()\n",
    "b = input()\n",
    "c = input()\n",
    "mean = (int(a) + int(b) + int(c))/3\n",
    "print(mean)"
   ]
  },
  {
   "cell_type": "markdown",
   "metadata": {},
   "source": [
    "## Exercise: ID card\n",
    "ให้ศึกษาวิธีการตรวจสอบหมายเลขบัตรประชาชนจาก link ต่อไปนี้ https://medium.com/@juk/ลองสร้างฟอร์มตรวจสอบเลขบัตร-ปชช-พร้อมมาตรฐาน-wcag-13b2c8c9d015 \n",
    "\n",
    "ให้เขียน program รับ input เป็น string ความยาว 12 ตัว และให้คืนค่าของหมายเลขบัตรประชนที่เป็นไปได้\n",
    "\n",
    "|case|input|output|\n",
    "|:---:|:---:|:---:|\n",
    "|1|123456789012|1234567890121|\n",
    "|2|123456789123|1234567891232|"
   ]
  },
  {
   "cell_type": "code",
   "execution_count": null,
   "metadata": {},
   "outputs": [],
   "source": [
    "id = input()\n",
    "sum = int(id[0]) * 13 \\\n",
    "    + int(id[1]) * 12 \\\n",
    "    + int(id[2]) * 11 \\\n",
    "    + int(id[3]) * 10 \\\n",
    "    + int(id[4]) * 9 \\\n",
    "    + int(id[5]) * 8 \\\n",
    "    + int(id[6]) * 7 \\\n",
    "    + int(id[7]) * 6 \\\n",
    "    + int(id[8]) * 5 \\\n",
    "    + int(id[9]) * 4 \\\n",
    "    + int(id[10]) * 3 \\\n",
    "    + int(id[11]) * 2\n",
    "print(str(11 - (sum % 11))[-1])"
   ]
  },
  {
   "cell_type": "markdown",
   "metadata": {},
   "source": [
    "## Condition\n",
    "\n",
    "### If statement\n",
    "\n",
    "```\n",
    "if condition:\n",
    "   statement1\n",
    "statement2\n",
    "```\n",
    "\n",
    "![if-statement.jpg](https://media.geeksforgeeks.org/wp-content/uploads/if-statement.jpg)"
   ]
  },
  {
   "cell_type": "code",
   "execution_count": null,
   "metadata": {},
   "outputs": [],
   "source": [
    "# python program to illustrate If statement \n",
    "  \n",
    "i = 10\n",
    "if (i > 15): \n",
    "   print (\"10 is less than 15\") \n",
    "print (\"I am Not in if\") "
   ]
  },
  {
   "cell_type": "markdown",
   "metadata": {},
   "source": [
    "### If-else statement\n",
    "\n",
    "```\n",
    "if (condition):\n",
    "    # Executes this block if\n",
    "    # condition is true\n",
    "else:\n",
    "    # Executes this block if\n",
    "    # condition is false\n",
    "```\n",
    "\n",
    "![if-else.jpg](https://media.geeksforgeeks.org/wp-content/uploads/if-else.jpg)"
   ]
  },
  {
   "cell_type": "code",
   "execution_count": null,
   "metadata": {},
   "outputs": [],
   "source": [
    "i = 20; \n",
    "if (i < 15): \n",
    "    print (\"i is smaller than 15\") \n",
    "    print (\"i'm in if Block\") \n",
    "else: \n",
    "    print (\"i is greater than 15\") \n",
    "    print (\"i'm in else Block\") \n",
    "print (\"i'm not in if and not in else Block\") "
   ]
  },
  {
   "cell_type": "markdown",
   "metadata": {},
   "source": [
    "### Nested-if statement\n",
    "\n",
    "```\n",
    "if (condition1):\n",
    "   # Executes when condition1 is true\n",
    "   if (condition2): \n",
    "      # Executes when condition2 is true\n",
    "   # if Block is end here\n",
    "# if Block is end here\n",
    "```\n",
    "\n",
    "![nested-if.jpg](https://media.geeksforgeeks.org/wp-content/uploads/nested-if.jpg)"
   ]
  },
  {
   "cell_type": "code",
   "execution_count": null,
   "metadata": {},
   "outputs": [],
   "source": [
    "i = 10\n",
    "if (i == 10): \n",
    "    #  First if statement \n",
    "    if (i < 15): \n",
    "        print (\"i is smaller than 15\") \n",
    "    # Nested - if statement \n",
    "    # Will only be executed if statement above \n",
    "    # it is true \n",
    "    if (i < 12): \n",
    "        print (\"i is smaller than 12 too\") \n",
    "    else: \n",
    "        print (\"i is greater than 15\") "
   ]
  },
  {
   "cell_type": "markdown",
   "metadata": {},
   "source": [
    "### Else if statement\n",
    "\n",
    "```\n",
    "if (condition):\n",
    "    statement\n",
    "elif (condition):\n",
    "    statement\n",
    ".\n",
    ".\n",
    "else:\n",
    "    statement\n",
    "```\n",
    "\n",
    "![if-elseif-ladder.jpg](https://media.geeksforgeeks.org/wp-content/uploads/if-elseif-ladder.jpg)"
   ]
  },
  {
   "cell_type": "code",
   "execution_count": null,
   "metadata": {},
   "outputs": [],
   "source": [
    "i = 20\n",
    "if (i == 10): \n",
    "    print (\"i is 10\") \n",
    "elif (i == 15): \n",
    "    print (\"i is 15\") \n",
    "elif (i == 20): \n",
    "    print (\"i is 20\") \n",
    "else: \n",
    "    print (\"i is not present\") "
   ]
  },
  {
   "cell_type": "markdown",
   "metadata": {},
   "source": [
    "## Exercise: Grading system\n",
    "\n",
    "ให้รับ input เป็น string ของคะแนนตั้งแต่ 0 - 100 โดยให้ print grade ตามตามต่อไปนี้\n",
    "\n",
    "|score|grade|\n",
    "|:---:|:---:|\n",
    "|0-50|F|\n",
    "|51-60|D|\n",
    "|61-70|C|\n",
    "|71-80|B|\n",
    "|81-100|A|\n",
    "\n",
    "ตังอย่าง\n",
    "\n",
    "|case|input|output|\n",
    "|:---:|:---:|:---:|\n",
    "|1|49|F|\n",
    "|2|59|D|\n",
    "|3|81|A|"
   ]
  },
  {
   "cell_type": "code",
   "execution_count": null,
   "metadata": {},
   "outputs": [],
   "source": []
  },
  {
   "cell_type": "markdown",
   "metadata": {},
   "source": [
    "## Exercise: Taxi meter\n",
    "\n",
    "จงเขียนprogram ที่คำนวนค่าเดินทางของรถ taxi โดยรับ input เป็นตัวเลขตัวหนึ่งแทนจำนวนกิโลเมตรที่เดินทาง และกำหนดเงื่อนไขราคาดังนี้\n",
    "\n",
    "- 2 กิโลเมตรแรกราคา 35 บาท\n",
    "- ตั้งเเต่กิโลเมตรที่ 2 ถึง 10 ราคากิโลเมตรละ 5 บาท\n",
    "- ตั้งเเต่กิโลเมตรที่ 10 ถึง 20 ราคากิโลเมตรละ 3 บาท\n",
    "- ตั้งเเต่กิโลเมตรที่ 20 ถึง 30 ราคากิโลเมตรละ 2.5 บาท\n",
    "- ตั้งเเต่กิโลเมตรที่ 30 เป็นต้นไป คิดราคาเหมา 500 บาท\n",
    "- เศษของกิโลเมตรให้ปัดขึ้นเป็น 1 กิโลเมตร\n",
    "\n",
    "|case|input|output|\n",
    "|:---:|:---:|:---:|\n",
    "|1|1.8|35|\n",
    "|2|14.2|90|\n",
    "|3|152.58|500|"
   ]
  },
  {
   "cell_type": "code",
   "execution_count": null,
   "metadata": {},
   "outputs": [],
   "source": []
  },
  {
   "cell_type": "markdown",
   "metadata": {},
   "source": [
    "## List"
   ]
  },
  {
   "cell_type": "code",
   "execution_count": null,
   "metadata": {},
   "outputs": [],
   "source": [
    "a = []\n",
    "print(a)\n",
    "\n",
    "b = [10, 20, 14] \n",
    "print(b)\n",
    "\n",
    "c = [\"Hello\", \"World\", \"!!!!\"] \n",
    "print(c[0])\n",
    "print(c[2])\n",
    "print(c[-1])\n",
    "print('length of c', len(a))"
   ]
  },
  {
   "cell_type": "markdown",
   "metadata": {},
   "source": [
    "accessing element in list\n",
    "\n",
    "![](https://media.geeksforgeeks.org/wp-content/uploads/List-Slicing.jpg)"
   ]
  },
  {
   "cell_type": "markdown",
   "metadata": {},
   "source": [
    "### Adding element to list\n",
    "```\n",
    "a.append(element)\n",
    "```"
   ]
  },
  {
   "cell_type": "code",
   "execution_count": null,
   "metadata": {},
   "outputs": [],
   "source": [
    "a = []\n",
    "a.append(1)\n",
    "print(a)\n",
    "a.append(4)\n",
    "print(a)\n",
    "a.append(7)\n",
    "print(a)"
   ]
  },
  {
   "cell_type": "markdown",
   "metadata": {},
   "source": [
    "## Multi-dimension list"
   ]
  },
  {
   "cell_type": "code",
   "execution_count": null,
   "metadata": {},
   "outputs": [],
   "source": [
    "a = [[1, 2], [3, 4]]\n",
    "print(a[0][1])\n",
    "print(a[1][1])"
   ]
  },
  {
   "cell_type": "markdown",
   "metadata": {},
   "source": [
    "## Loop\n",
    "\n",
    "### While loop\n",
    "\n",
    "```\n",
    "while expression:\n",
    "    statement(s)\n",
    "```"
   ]
  },
  {
   "cell_type": "code",
   "execution_count": null,
   "metadata": {},
   "outputs": [],
   "source": [
    "count = 0\n",
    "while (count < 5):     \n",
    "    count += 1\n",
    "    print(\"Hello World\") "
   ]
  },
  {
   "cell_type": "markdown",
   "metadata": {},
   "source": [
    "### For loop\n",
    "#### For loop in list"
   ]
  },
  {
   "cell_type": "code",
   "execution_count": null,
   "metadata": {},
   "outputs": [],
   "source": [
    "fruits = [\"apple\", \"banana\", \"cherry\"]\n",
    "for x in fruits:\n",
    "  print(x)"
   ]
  },
  {
   "cell_type": "markdown",
   "metadata": {},
   "source": [
    "#### For loop in string"
   ]
  },
  {
   "cell_type": "code",
   "execution_count": null,
   "metadata": {},
   "outputs": [],
   "source": [
    "for x in \"banana\":\n",
    "  print(x)"
   ]
  },
  {
   "cell_type": "markdown",
   "metadata": {},
   "source": [
    "#### Break statement"
   ]
  },
  {
   "cell_type": "code",
   "execution_count": null,
   "metadata": {},
   "outputs": [],
   "source": [
    "fruits = [\"apple\", \"banana\", \"cherry\"]\n",
    "for x in fruits:\n",
    "  print(x) \n",
    "  if x == \"banana\":\n",
    "    break"
   ]
  },
  {
   "cell_type": "markdown",
   "metadata": {},
   "source": [
    "#### Continue statement"
   ]
  },
  {
   "cell_type": "code",
   "execution_count": null,
   "metadata": {},
   "outputs": [],
   "source": [
    "fruits = [\"apple\", \"banana\", \"cherry\"]\n",
    "for x in fruits:\n",
    "  if x == \"banana\":\n",
    "    continue\n",
    "  print(x)"
   ]
  },
  {
   "cell_type": "markdown",
   "metadata": {},
   "source": [
    "#### Range function"
   ]
  },
  {
   "cell_type": "code",
   "execution_count": null,
   "metadata": {},
   "outputs": [],
   "source": [
    "for x in range(6):\n",
    "  print(x)"
   ]
  },
  {
   "cell_type": "markdown",
   "metadata": {},
   "source": [
    "#### Nested loop"
   ]
  },
  {
   "cell_type": "code",
   "execution_count": null,
   "metadata": {},
   "outputs": [],
   "source": [
    "adj = [\"red\", \"big\", \"tasty\"]\n",
    "fruits = [\"apple\", \"banana\", \"cherry\"]\n",
    "\n",
    "for x in adj:\n",
    "  for y in fruits:\n",
    "    print(x, y)"
   ]
  },
  {
   "cell_type": "code",
   "execution_count": null,
   "metadata": {},
   "outputs": [],
   "source": [
    "a = [[1, 2], [3, 4]]\n",
    "for i in a:\n",
    "    for j in i:\n",
    "        print(j)"
   ]
  },
  {
   "cell_type": "markdown",
   "metadata": {},
   "source": [
    "## Example: ID Card (again?)\n",
    "\n",
    "ให้ศึกษาวิธีการตรวจสอบหมายเลขบัตรประชาชนจาก link ต่อไปนี้ https://medium.com/@juk/ลองสร้างฟอร์มตรวจสอบเลขบัตร-ปชช-พร้อมมาตรฐาน-wcag-13b2c8c9d015 \n",
    "\n",
    "ให้เขียน program รับ input เป็น string ความยาว 12 ตัว และให้คืนค่าของหมายเลขบัตรประชนที่เป็นไปได้\n",
    "\n",
    "|case|input|output|\n",
    "|:---:|:---:|:---:|\n",
    "|1|123456789012|1234567890121|\n",
    "|2|123456789123|1234567891232|"
   ]
  },
  {
   "cell_type": "code",
   "execution_count": null,
   "metadata": {},
   "outputs": [],
   "source": [
    "id = input()\n",
    "sum = 0\n",
    "for i in range(len(id)):\n",
    "    sum += int(id[i]) * (13 - i)\n",
    "print(str(11 - (sum % 11))[-1])"
   ]
  },
  {
   "cell_type": "markdown",
   "metadata": {},
   "source": [
    "## Exercise: Finding average (again?)\n",
    "ให้รับค่า n เป็นจำนวนของตัวเลขที่ต้องการหาค่าเฉลี่ย\n",
    "และ รับจำนวนจริง n ตัว และหาค่าเฉลี่ยของ n จำนวนนั้น\n",
    "\n",
    "|case|input|output|\n",
    "|:---:|:---:|:---:|\n",
    "|1|3<br>1<br>3<br>5|3|\n",
    "|2|4<br>1<br>2<br>3<br>4|2.5|"
   ]
  },
  {
   "cell_type": "code",
   "execution_count": null,
   "metadata": {},
   "outputs": [],
   "source": []
  },
  {
   "cell_type": "markdown",
   "metadata": {},
   "source": [
    "### Sum function\n",
    "```\n",
    "sum(list)\n",
    "```"
   ]
  },
  {
   "cell_type": "code",
   "execution_count": null,
   "metadata": {},
   "outputs": [],
   "source": [
    "a = [1, 3, 4, 5, 6, 6]\n",
    "print(sum(a))"
   ]
  },
  {
   "cell_type": "markdown",
   "metadata": {},
   "source": [
    "## Exercise: Finding average (again??)\n",
    "ให้รับค่า n เป็นจำนวนของตัวเลขที่ต้องการหาค่าเฉลี่ย\n",
    "และ รับจำนวนจริง n ตัว และหาค่าเฉลี่ยของ n จำนวนนั้น\n",
    "\n",
    "|case|input|output|\n",
    "|:---:|:---:|:---:|\n",
    "|1|3<br>1<br>3<br>5|3|\n",
    "|2|4<br>1<br>2<br>3<br>4|2.5|"
   ]
  },
  {
   "cell_type": "code",
   "execution_count": null,
   "metadata": {},
   "outputs": [],
   "source": []
  }
 ],
 "metadata": {
  "kernelspec": {
   "display_name": "Python 3.8.2 64-bit ('env': venv)",
   "language": "python",
   "name": "python38264bitenvvenvaaadf3aa667a44ef8ca0d6bd4274eac2"
  },
  "language_info": {
   "codemirror_mode": {
    "name": "ipython",
    "version": 3
   },
   "file_extension": ".py",
   "mimetype": "text/x-python",
   "name": "python",
   "nbconvert_exporter": "python",
   "pygments_lexer": "ipython3",
   "version": "3.8.2"
  }
 },
 "nbformat": 4,
 "nbformat_minor": 4
}
